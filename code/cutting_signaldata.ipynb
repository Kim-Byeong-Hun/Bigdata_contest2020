{
 "cells": [
  {
   "cell_type": "code",
   "execution_count": 1,
   "metadata": {
    "collapsed": true
   },
   "outputs": [],
   "source": [
    "import warnings\n",
    "warnings.filterwarnings(\"ignore\")\n",
    "\n",
    "import matplotlib\n",
    "\n",
    "import matplotlib.pyplot as plt\n",
    "\n",
    "import numpy as np\n",
    "import pandas as pd\n",
    "\n",
    "import librosa\n",
    "import librosa.display\n",
    "\n",
    "#from pydub import AudioSegment\n",
    "#from pydub.silence import split_on_silence\n",
    "\n",
    "from scipy.signal import find_peaks \n",
    "\n",
    "import os"
   ]
  },
  {
   "cell_type": "code",
   "execution_count": 2,
   "metadata": {
    "collapsed": true
   },
   "outputs": [],
   "source": [
    "path = os.getcwd()"
   ]
  },
  {
   "cell_type": "code",
   "execution_count": 3,
   "metadata": {
    "collapsed": true
   },
   "outputs": [],
   "source": [
    "metadata = pd.read_csv(\"metadata_compiled.csv\")"
   ]
  },
  {
   "cell_type": "code",
   "execution_count": 4,
   "metadata": {
    "collapsed": true
   },
   "outputs": [],
   "source": [
    "files = metadata[metadata[\"cough_detected\"]>=0.5][\"uuid\"].tolist()"
   ]
  },
  {
   "cell_type": "code",
   "execution_count": 5,
   "metadata": {
    "collapsed": true
   },
   "outputs": [],
   "source": [
    "def moving_average(a, n=100):\n",
    "    ret = np.nancumsum(a, dtype=float)\n",
    "    ret[n:] = ret[n:] - ret[:-n]\n",
    "    ret = ret[n - 1:] / n\n",
    "    zero_arr = [0]*(n-1)\n",
    "    return np.append(zero_arr, ret)"
   ]
  },
  {
   "cell_type": "code",
   "execution_count": 6,
   "metadata": {},
   "outputs": [],
   "source": [
    "for file in files:\n",
    "    sig, sr = librosa.load(path+\"\\\\public_dataset\\\\\"+file+\".wav\", sr=16000)\n",
    "    \n",
    "    #원본\n",
    "    fig=plt.figure(figsize=(4,4))\n",
    "    librosa.display.waveplot(sig, sr, alpha=0.5)\n",
    "    plt.savefig('./original_plot/'+file+'.png')\n",
    "    plt.close(fig)\n",
    "    \n",
    "    fp = find_peaks(list(sig), height=0.2)[0] #높이가 최소 0.2 이상인 값을 찾음\n",
    "\n",
    "    fp_diff = np.diff(fp)>3000 #다음 기침은 최소 0.2초 이후에 한다 가정\n",
    "    fp_diff = np.append(fp_diff, False) #차분 값의 마지막에 False 값 추가\n",
    "    if sum(fp_diff)==0: fp_index = 0\n",
    "    else: fp_index = list(fp[fp_diff]) #True인 값 추출 (차이가 커지기 전 인덱스 추출)\n",
    "    \n",
    "    #한주기\n",
    "    if fp_index==0:\n",
    "        fig=plt.figure(figsize=(4,4))\n",
    "        librosa.display.waveplot(sig, sr, alpha=0.5)\n",
    "        plt.savefig('./one_plot/'+file+'.png')\n",
    "        plt.close(fig)\n",
    "        \n",
    "        yt,idx = librosa.effects.trim(sig, top_db = 10)\n",
    "        \n",
    "        fig=plt.figure(figsize=(4,4))\n",
    "        librosa.display.waveplot(yt, sr, alpha=0.5)\n",
    "        plt.savefig('./cut_plot/'+file+'.png')\n",
    "        plt.close(fig)\n",
    "        \n",
    "        mv = moving_average(yt, 10)\n",
    "\n",
    "        if sum(mv>0.2)!=0:\n",
    "            mv_idx = list(mv>0.2).index(True)\n",
    "            \n",
    "            if len(yt[(mv_idx-100):])<1600: continue\n",
    "            else:\n",
    "                fig=plt.figure(figsize=(4,4))\n",
    "                librosa.display.waveplot(yt[(mv_idx-100):], sr, alpha=0.5)\n",
    "                plt.savefig('./mv_plot/'+file+'.png')\n",
    "                plt.close(fig)\n",
    "                \n",
    "    else:\n",
    "        fig=plt.figure(figsize=(4,4))\n",
    "        librosa.display.waveplot(sig[:fp_index[0]], sr, alpha=0.5)\n",
    "        plt.savefig('./one_plot/'+file+'.png')\n",
    "        plt.close(fig)\n",
    "        \n",
    "        #cutting\n",
    "        yt,idx = librosa.effects.trim(sig[:fp_index[0]], top_db = 10)\n",
    "        \n",
    "        fig=plt.figure(figsize=(4,4))\n",
    "        librosa.display.waveplot(yt, sr, alpha=0.5)\n",
    "        plt.savefig('./cut_plot/'+file+'.png')\n",
    "        plt.close(fig)\n",
    "        \n",
    "        mv = moving_average(yt, 10)\n",
    "        \n",
    "        if sum(mv>0.2)!=0:\n",
    "\n",
    "            mv_idx = list(mv>0.2).index(True)\n",
    "\n",
    "            if len(yt[(mv_idx-100):])<1600: continue\n",
    "            else:\n",
    "                fig=plt.figure(figsize=(4,4))\n",
    "                librosa.display.waveplot(yt[(mv_idx-100):], sr, alpha=0.5)\n",
    "                plt.savefig('./mv_plot/'+file+'.png')\n",
    "                plt.close(fig)"
   ]
  },
  {
   "cell_type": "code",
   "execution_count": null,
   "metadata": {
    "collapsed": true
   },
   "outputs": [],
   "source": []
  }
 ],
 "metadata": {
  "kernelspec": {
   "display_name": "Python 3",
   "language": "python",
   "name": "python3"
  },
  "language_info": {
   "codemirror_mode": {
    "name": "ipython",
    "version": 3
   },
   "file_extension": ".py",
   "mimetype": "text/x-python",
   "name": "python",
   "nbconvert_exporter": "python",
   "pygments_lexer": "ipython3",
   "version": "3.7.6"
  }
 },
 "nbformat": 4,
 "nbformat_minor": 2
}
